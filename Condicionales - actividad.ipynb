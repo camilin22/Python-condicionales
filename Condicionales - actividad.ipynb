{
 "cells": [
  {
   "cell_type": "markdown",
   "metadata": {},
   "source": [
    "## Condicionales - Actividad\n",
    "*Los ejercicios propuestos a continuación presentan autocorrección. En cada uno habrá dos bloques, uno para resolver el ejercicio y otro para testear tu solución.*\n",
    "Ejemplo:"
   ]
  },
  {
   "cell_type": "code",
   "execution_count": 1,
   "metadata": {},
   "outputs": [],
   "source": [
    "def ejemplo():\n",
    "    return \"ejemplo\""
   ]
  },
  {
   "cell_type": "markdown",
   "metadata": {},
   "source": [
    "1) Escribir un programa que reciba un numero y devuelva si es par o impar.\n",
    "\n",
    "    *Debe retornar la palabra \"par\" o \"impar\" según corresponda.*"
   ]
  },
  {
   "cell_type": "code",
   "execution_count": 11,
   "metadata": {},
   "outputs": [
    {
     "name": "stdout",
     "output_type": "stream",
     "text": [
      "El número 4 es par.\n"
     ]
    }
   ],
   "source": [
    "def determinar_par_impar(numero):\n",
    "    if numero % 2 == 0:\n",
    "        return \"par\"\n",
    "    else:\n",
    "        return \"impar\"\n",
    "\n",
    "\n",
    "numero = int(input(\"Ingresa un número: \"))\n",
    "\n",
    "resultado = determinar_par_impar(numero)\n",
    "print(f\"El número {numero} es {resultado}.\")"
   ]
  },
  {
   "cell_type": "markdown",
   "metadata": {},
   "source": [
    "2) Escribir un programa que reciba dos numeros y devuelva el mayor.\n",
    "    *Debe retornar el numero mayor junto con la palabra \"es mayor\"*\n",
    "    Ejemplo: 4 es mayor"
   ]
  },
  {
   "cell_type": "code",
   "execution_count": 12,
   "metadata": {},
   "outputs": [
    {
     "name": "stdout",
     "output_type": "stream",
     "text": [
      "El número mayor es 4.\n"
     ]
    }
   ],
   "source": [
    "def obtener_mayor(num1, num2):\n",
    "    if num1 > num2:\n",
    "        return num1, \"mayor\"\n",
    "    elif num2 > num1:\n",
    "        return num2, \"mayor\"\n",
    "    else:\n",
    "        return \"Los números son iguales\"\n",
    "\n",
    "\n",
    "num1 = int(input(\"Ingresa el primer número: \"))\n",
    "num2 = int(input(\"Ingresa el segundo número: \"))\n",
    "\n",
    "\n",
    "resultado, etiqueta = obtener_mayor(num1, num2)\n",
    "if etiqueta == \"mayor\":\n",
    "    print(f\"El número mayor es {resultado}.\")\n",
    "else:\n",
    "    print(resultado)"
   ]
  },
  {
   "cell_type": "markdown",
   "metadata": {},
   "source": [
    "3) Dadas dos variables, comprobar si son del mismo tipo de dato y devolver True o False según corresponda."
   ]
  },
  {
   "cell_type": "code",
   "execution_count": 6,
   "metadata": {},
   "outputs": [
    {
     "name": "stdout",
     "output_type": "stream",
     "text": [
      "las variables no son iguales: False\n"
     ]
    }
   ],
   "source": [
    "\n",
    "\n",
    "def ejercicio_3(variable1, variable2):\n",
    "    return type(variable1) == type(variable2)\n",
    "\n",
    "variable1 = 10\n",
    "variable2 = \"javier\"\n",
    "\n",
    "\n",
    "resultado = ejercicio_3(variable1,variable2)\n",
    "\n",
    "if type (variable1) == type (variable2) :\n",
    "    print (\"las variables son iguales:\", resultado)\n",
    "else:\n",
    "    print(\"las variables no son iguales:\", resultado)\n",
    "\n"
   ]
  },
  {
   "cell_type": "markdown",
   "metadata": {},
   "source": [
    "4) En una empresa se le paga al personal un bono según los años que llevan en la misma. Si la persona lleva 5 años o menos el bono es de $5.000, mas de 5 años y menos de 20 años es de $10.000, mas de 20 años, el bono es de $15.000. \n",
    "\n",
    "    Crear un programa que reciba el nombre del empleado y los años que lleva en la empresa y devuelva el bono que le corresponde.\n",
    "    \n",
    "    *Debe retornar el nombre del empleado junto con la palabra \"tiene un bono de\" y el valor del bono*\n",
    "\n",
    "    Ejemplo: \"Pedro tiene un bono de 10000\""
   ]
  },
  {
   "cell_type": "code",
   "execution_count": 19,
   "metadata": {},
   "outputs": [
    {
     "name": "stdout",
     "output_type": "stream",
     "text": [
      "javier  gano el bono de 15.000\n"
     ]
    }
   ],
   "source": [
    "\n",
    "nombre = (input(\"ingrese el nombre de empleado:\"))\n",
    "años = int (input(\"ingrese la cantidad de años en la empresa:\"))\n",
    "\n",
    "\n",
    "\n",
    "if años <= 5:\n",
    "    print(nombre,\"gano el bono de 5.000\")\n",
    "elif años > 5 and años < 20:\n",
    "    print(nombre,\"gano el bono de 10.000\")\n",
    "else:\n",
    "    print(nombre,\"gano el bono de 15.000\")\n",
    "\n"
   ]
  },
  {
   "cell_type": "markdown",
   "metadata": {},
   "source": [
    "5) Crear una función que recibe el monto pagado y el tipo de moneda (USD, EUR) y devuelve el monto en pesos argentinos. 1 USD = 970 ARS, 1 EUR = 1022 ARS.\n",
    " \n",
    "    *Debe retornar el monto en pesos argentinos junto con la palabra \"pesos\"*\n",
    "    \n",
    "    Ejemplo: 1000 pesos"
   ]
  },
  {
   "cell_type": "code",
   "execution_count": 24,
   "metadata": {},
   "outputs": [
    {
     "name": "stdout",
     "output_type": "stream",
     "text": [
      "El monto pagado de 50 usd equivale a 48500 ARS.\n"
     ]
    }
   ],
   "source": [
    "def convertidor_divisas(monto, moneda):\n",
    "    if moneda.lower() == 'usd':\n",
    "     return monto * 970\n",
    "    elif moneda.lower() == 'eur':\n",
    "        return monto * 1022\n",
    "    else:\n",
    "        return \"moneda no valida. por favor ingrese 'USD' o 'EUR'.\"\n",
    "    \n",
    "monto_pagado = 50\n",
    "moneda_utilizada = 'usd'\n",
    "\n",
    "monto_en_ars = convertidor_divisas(monto_pagado, moneda_utilizada)\n",
    "print(f\"El monto pagado de {monto_pagado} {moneda_utilizada} equivale a {monto_en_ars} ARS.\")"
   ]
  },
  {
   "cell_type": "markdown",
   "metadata": {},
   "source": [
    "6) Crea una función que reciba el nombre de un estudiante y su promedio de calificaciones. Si el promedio es menor a 70, la función debe retornar \"El estudiante [nombre] está en la categoría 'Bajo rendimiento'\". Si el promedio está entre 70 y 90 (inclusive), debe retornar \"El estudiante [nombre] está en la categoría 'Rendimiento promedio'\". Si el promedio es mayor a 90, debe retornar \"El estudiante [nombre] está en la categoría 'Alto rendimiento'\"."
   ]
  },
  {
   "cell_type": "code",
   "execution_count": 29,
   "metadata": {},
   "outputs": [
    {
     "name": "stdout",
     "output_type": "stream",
     "text": [
      "El estudiante javier esta en la categoria 'Alto en rendimiento\n"
     ]
    }
   ],
   "source": [
    "def ejercicio_6(alumnos, promedio):\n",
    "    pass\n",
    "nombre = (input(\"ingrese el nombre del alumno:\"))\n",
    "promedio = int (input(\"ingrese el total de promedio:\"))\n",
    "\n",
    "\n",
    "\n",
    "if promedio < 70:\n",
    "    print(\"El estudiante\",nombre,\"esta en la categoria 'Bajo en rendimiento'\")\n",
    "elif promedio > 70 and años >= 90:\n",
    "    print(\"El estudiante\",nombre,\"esta en la categoria 'Rendimiento promedio'\")\n",
    "else:\n",
    "    print(\"El estudiante\",nombre,\"esta en la categoria 'Alto en rendimiento\")\n",
    "\n"
   ]
  },
  {
   "cell_type": "markdown",
   "metadata": {},
   "source": [
    "7) Vas a comprar chocolates en oferta, cada uno vale $325, comprando 5 o mas tienen un descuento del 10%, si compras 10 o mas tienen un descuento del 17%, si compras 20 o mas tienen un descuento del 30%. \n",
    "\n",
    "    Crear un programa que reciba la cantidad de chocolates que queres comprar y devuelva el precio final.\n",
    "    \n",
    "    *Solo debe retornar el precio final, puede ser un numero entero o decimal*"
   ]
  },
  {
   "cell_type": "code",
   "execution_count": 4,
   "metadata": {},
   "outputs": [
    {
     "name": "stdout",
     "output_type": "stream",
     "text": [
      "Si compras 7 chocolates, el precio total es: $2047.50\n"
     ]
    }
   ],
   "source": [
    "\n",
    "def calcular_precio_chocolates(cantidad):\n",
    "    precio_chocolate = 325 \n",
    "    total_sin_descuento = cantidad * precio_chocolate  \n",
    "    \n",
    "    \n",
    "    if cantidad >= 20:\n",
    "        descuento = 0.30  \n",
    "    elif cantidad >= 10:\n",
    "        descuento = 0.17  \n",
    "    elif cantidad >= 5:\n",
    "        descuento = 0.10 \n",
    "    else:\n",
    "        descuento = 0  \n",
    "    \n",
    "  \n",
    "    precio_final = total_sin_descuento - (total_sin_descuento * descuento)\n",
    "    return precio_final\n",
    "\n",
    "\n",
    "cantidad_chocolates = 7\n",
    "precio_total = calcular_precio_chocolates(cantidad_chocolates)\n",
    "print(f\"Si compras {cantidad_chocolates} chocolates, el precio total es: ${precio_total:.2f}\")\n",
    "\n"
   ]
  }
 ],
 "metadata": {
  "kernelspec": {
   "display_name": "Python 3",
   "language": "python",
   "name": "python3"
  },
  "language_info": {
   "codemirror_mode": {
    "name": "ipython",
    "version": 3
   },
   "file_extension": ".py",
   "mimetype": "text/x-python",
   "name": "python",
   "nbconvert_exporter": "python",
   "pygments_lexer": "ipython3",
   "version": "3.11.4"
  }
 },
 "nbformat": 4,
 "nbformat_minor": 2
}
